{
  "nbformat": 4,
  "nbformat_minor": 0,
  "metadata": {
    "colab": {
      "provenance": []
    },
    "kernelspec": {
      "name": "python3",
      "display_name": "Python 3"
    },
    "language_info": {
      "name": "python"
    }
  },
  "cells": [
    {
      "cell_type": "code",
      "execution_count": null,
      "metadata": {
        "id": "nSy7Q9LaA3eN"
      },
      "outputs": [],
      "source": [
        "import numpy as np\n",
        "import matplotlib.pyplot as plt\n",
        "from matplotlib.image import imread\n",
        "image_path = r'C:\\Users\\giofr\\Desktop\\NUMERICAL ANALYSIS FOR MACHINE LEARNING\\TDE\\7 FEBRUARY 2023\\polimi_compress.jpg'\n",
        "img = imread(image_path)\n",
        "img_RGB = [np.array(img[:,:,i], dtype = np.float64)/255 for i in range(3)]\n",
        "\n",
        "def plot_image(RGB, ax = None):\n",
        "  if ax is None:\n",
        "    _, ax = plt.subplots(1,1, figsize = (12,5))\n",
        "  ax.imshow(np.clip(np.stack(RGB, axis = 2),0,1))\n",
        "  plt.axis('off')\n",
        "\n",
        "plot_image(img_RGB)\n",
        "\n",
        "# Now, randomly replace 70% of the pixels with random colors.\n",
        "damage_fraction = 0.7\n",
        "np.random.seed(0)\n",
        "\n",
        "mask_remove = np.random.choice(a=[True, False], size=(img.shape[0],img.shape[1]), p=[damage_fraction, 1-damage_fraction])\n",
        "mask_keep = np.logical_not(mask_remove)\n",
        "img_damaged_RGB = [img_RGB[i].copy() for i in range(3)]\n",
        "for i in range(3):\n",
        "  img_damaged_RGB[i][mask_remove] = np.random.rand(np.sum(mask_remove))"
      ]
    },
    {
      "cell_type": "code",
      "source": [
        "# display the damaged imagine\n",
        "plot_image(img_damaged_RGB)"
      ],
      "metadata": {
        "id": "dKZ5zL8dC96P"
      },
      "execution_count": null,
      "outputs": []
    },
    {
      "cell_type": "code",
      "source": [
        "# implement SVT algorithm to reconstruct the original matrix\n",
        "def SVT(matrix_channel, threshold, mask_keep):\n",
        "  n_max_iter = 200\n",
        "  tol = 1e-6\n",
        "  A = matrix_channel.copy()\n",
        "\n",
        "  for i in range(n_max_iter):\n",
        "    A_old = A.copy()\n",
        "    U,s,VT = np.linalg.svd(A, full_matrices = False)\n",
        "\n",
        "    s[s < threshold] = 0\n",
        "    A = U @ np.diag(s) @ VT\n",
        "    A[mask_keep] = matrix_channel[mask_keep]\n",
        "    increment = np.linalg.norm(A - A_old)\n",
        "\n",
        "    if increment < tol:\n",
        "        print(\"Tolerance achieved!\")\n",
        "        break\n",
        "\n",
        "    print(\"n_iter: %d\" % i)\n",
        "    return A\n"
      ],
      "metadata": {
        "id": "dqhXthSYDT7g"
      },
      "execution_count": null,
      "outputs": []
    },
    {
      "cell_type": "code",
      "source": [
        "thresholds = list(range(2,2,22))\n",
        "reconstructed_imgs = list()\n",
        "\n",
        "for threshold in thresholds:\n",
        "  img_reconstructed = img_damaged_RGB.copy()\n",
        "  print(\"current threshold: %d\" %threshold)\n",
        "  for i in range(3):\n",
        "    img_reconstructed[i] = SVT(img_damaged_RGB[i], threshold, mask_keep)\n",
        "\n",
        "  reconstructed_imgs.append(img_reconstructed)\n"
      ],
      "metadata": {
        "id": "dnRFgSNSHQgn"
      },
      "execution_count": null,
      "outputs": []
    },
    {
      "cell_type": "code",
      "source": [
        "# finally print the resulting image against the original one\n",
        "fig, axes = plt.subplots(nrows=len(thresholds), ncols=3, figsize = (18,6))\n",
        "for i in range(len(thresholds)):\n",
        "  plot_image(reconstructed_imgs[i], axes[3*i])\n",
        "  axes[3*i].set_title(thresholds[i])\n",
        "  plot_image(img_damaged_RGB, axes[3*i + 1])\n",
        "  plot_image(img_RGB, axes[3*i + 2])"
      ],
      "metadata": {
        "id": "AQGO5ChHJGYX"
      },
      "execution_count": null,
      "outputs": []
    }
  ]
}